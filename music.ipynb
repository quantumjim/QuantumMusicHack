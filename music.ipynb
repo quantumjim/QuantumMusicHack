{
 "cells": [
  {
   "attachments": {},
   "cell_type": "markdown",
   "metadata": {},
   "source": [
    "# Some quantum music\n",
    "\n",
    "We will be using maths and Midi files, so let's start with some imports."
   ]
  },
  {
   "cell_type": "code",
   "execution_count": 1,
   "metadata": {},
   "outputs": [],
   "source": [
    "import numpy as np\n",
    "from midiutil import MIDIFile"
   ]
  },
  {
   "attachments": {},
   "cell_type": "markdown",
   "metadata": {},
   "source": [
    "We'll be manipulating the music in the Midi files using some quantum software. For that we'll be using [Quantum Blur](https://github.com/qiskit-community/QuantumBlur/blob/master/README.md) (which has Qiskit under the hood)."
   ]
  },
  {
   "cell_type": "code",
   "execution_count": 2,
   "metadata": {},
   "outputs": [],
   "source": [
    "import quantumblur as qb"
   ]
  },
  {
   "attachments": {},
   "cell_type": "markdown",
   "metadata": {},
   "source": [
    "The process will be to start with an initial piece of music and then modify it. We'll do this using a structure such as the following (which represents 'Twinkle twinkle little star')."
   ]
  },
  {
   "cell_type": "code",
   "execution_count": 3,
   "metadata": {},
   "outputs": [],
   "source": [
    "score = [{'note': 'C', 'octave': 0, 'bar': 0, 'beat': 0, 'volume': 100}, {'note': 'C', 'octave': 0, 'bar': 0, 'beat': 1, 'volume': 100}, {'note': 'G', 'octave': 0, 'bar': 0, 'beat': 2, 'volume': 100}, {'note': 'G', 'octave': 0, 'bar': 0, 'beat': 3, 'volume': 100}, {'note': 'A', 'octave': 0, 'bar': 1, 'beat': 0, 'volume': 100}, {'note': 'A', 'octave': 0, 'bar': 1, 'beat': 1, 'volume': 100}, {'note': 'G', 'octave': 0, 'bar': 1, 'beat': 2, 'volume': 100}, {'note': 'F', 'octave': 0, 'bar': 2, 'beat': 0, 'volume': 100}, {'note': 'F', 'octave': 0, 'bar': 2, 'beat': 1, 'volume': 100}, {'note': 'E', 'octave': 0, 'bar': 2, 'beat': 2, 'volume': 100}, {'note': 'E', 'octave': 0, 'bar': 2, 'beat': 3, 'volume': 100}, {'note': 'D', 'octave': 0, 'bar': 3, 'beat': 0, 'volume': 100}, {'note': 'D', 'octave': 0, 'bar': 3, 'beat': 1, 'volume': 100}, {'note': 'C', 'octave': 0, 'bar': 3, 'beat': 2, 'volume': 100}, {'note': 'G', 'octave': 0, 'bar': 4, 'beat': 0, 'volume': 100}, {'note': 'G', 'octave': 0, 'bar': 4, 'beat': 1, 'volume': 100}, {'note': 'F', 'octave': 0, 'bar': 4, 'beat': 2, 'volume': 100}, {'note': 'F', 'octave': 0, 'bar': 4, 'beat': 3, 'volume': 100}, {'note': 'E', 'octave': 0, 'bar': 5, 'beat': 0, 'volume': 100}, {'note': 'E', 'octave': 0, 'bar': 5, 'beat': 1, 'volume': 100}, {'note': 'D', 'octave': 0, 'bar': 5, 'beat': 2, 'volume': 100}, {'note': 'G', 'octave': 0, 'bar': 6, 'beat': 0, 'volume': 100}, {'note': 'G', 'octave': 0, 'bar': 6, 'beat': 1, 'volume': 100}, {'note': 'F', 'octave': 0, 'bar': 6, 'beat': 2, 'volume': 100}, {'note': 'F', 'octave': 0, 'bar': 6, 'beat': 3, 'volume': 100}, {'note': 'E', 'octave': 0, 'bar': 7, 'beat': 0, 'volume': 100}, {'note': 'E', 'octave': 0, 'bar': 7, 'beat': 1, 'volume': 100}, {'note': 'D', 'octave': 0, 'bar': 7, 'beat': 2, 'volume': 100}, {'note': 'C', 'octave': 0, 'bar': 8, 'beat': 0, 'volume': 100}, {'note': 'C', 'octave': 0, 'bar': 8, 'beat': 1, 'volume': 100}, {'note': 'G', 'octave': 0, 'bar': 8, 'beat': 2, 'volume': 100}, {'note': 'G', 'octave': 0, 'bar': 8, 'beat': 3, 'volume': 100}, {'note': 'A', 'octave': 0, 'bar': 9, 'beat': 0, 'volume': 100}, {'note': 'A', 'octave': 0, 'bar': 9, 'beat': 1, 'volume': 100}, {'note': 'G', 'octave': 0, 'bar': 9, 'beat': 2, 'volume': 100}, {'note': 'F', 'octave': 0, 'bar': 10, 'beat': 0, 'volume': 100}, {'note': 'F', 'octave': 0, 'bar': 10, 'beat': 1, 'volume': 100}, {'note': 'E', 'octave': 0, 'bar': 10, 'beat': 2, 'volume': 100}, {'note': 'E', 'octave': 0, 'bar': 10, 'beat': 3, 'volume': 100}, {'note': 'D', 'octave': 0, 'bar': 11, 'beat': 0, 'volume': 100}, {'note': 'D', 'octave': 0, 'bar': 11, 'beat': 1, 'volume': 100}, {'note': 'C', 'octave': 0, 'bar': 11, 'beat': 2, 'volume': 100}]\n"
   ]
  },
  {
   "attachments": {},
   "cell_type": "markdown",
   "metadata": {},
   "source": [
    "To play the music in these 'scores', we will turn it into Midi files. The function below does this."
   ]
  },
  {
   "cell_type": "code",
   "execution_count": 4,
   "metadata": {},
   "outputs": [],
   "source": [
    "midi_C = 36\n",
    "beats_per_bar = 4\n",
    "note_ref = {'C':0,'C#':1,'D':2,'D#':3,'E':4,'F':5,'F#':6,'G':7,'G#':8,'A':9,'A#':10,'B':11}\n",
    "\n",
    "\n",
    "def score2midi(score,filename):\n",
    "\n",
    "    track = 0\n",
    "    channel = 0\n",
    "    tempo = 60\n",
    "\n",
    "    MyMIDI = MIDIFile(1)\n",
    "    MyMIDI.addTempo(track, 0, tempo)\n",
    "    MyMIDI.addProgramChange(0,0,0,1)\n",
    "\n",
    "    for note in score:\n",
    "        \n",
    "        n = note_ref[note['note']]\n",
    "        beat = note['beat']\n",
    "        octave = note['octave']\n",
    "        bar = note['bar']\n",
    "\n",
    "        degree = n + octave*12 + midi_C\n",
    "        time = beat + beats_per_bar*bar\n",
    "        duration = 1\n",
    "        volume = note['volume']\n",
    "        MyMIDI.addNote(track, channel, degree, time, duration, volume)\n",
    "\n",
    "    with open(filename, 'wb') as output_file:\n",
    "        MyMIDI.writeFile(output_file)"
   ]
  },
  {
   "attachments": {},
   "cell_type": "markdown",
   "metadata": {},
   "source": [
    "To see what the music looks like, we can turn it into an image.\n",
    "\n",
    "First we turn it into what we call a heightmap, which assigns a single value to a set if coordinates. This value could be interpreted as either a height (hence the name) or brightness (for a monochrome image).\n",
    "\n",
    "The coordinates we will use for our music will represent the semitone for the note (on the y axis) and beat at which it occurs (on the x axis).\n",
    "\n",
    "To make the music easier to encode in a quantum computer, we'll also rescale from the usual 12 semitones per octave to a power of 2. When converting from the heightmap back to a score, we'll rescale it back again.\n",
    "\n",
    "The following function turns scores into heightmaps."
   ]
  },
  {
   "cell_type": "code",
   "execution_count": 5,
   "metadata": {},
   "outputs": [],
   "source": [
    "semis_per_octave = 16\n",
    "\n",
    "def score2height(score):\n",
    "    \n",
    "    h = {}\n",
    "    \n",
    "    t_max = 0\n",
    "    for note in score:\n",
    "        \n",
    "        n = int( np.round(note_ref[note['note']] * semis_per_octave/12) + semis_per_octave*note['octave'] )\n",
    "        t = note['beat'] + beats_per_bar*note['bar']\n",
    "        \n",
    "        if (t,n) not in h:\n",
    "            h[t,n] = note['volume']\n",
    "        else:\n",
    "            h[t,n] += note['volume']\n",
    "\n",
    "        t_max = max(t,t_max)\n",
    "       \n",
    "    h_max = max(h.values())\n",
    "    for t,n in h:\n",
    "        h[t,n] /= h_max\n",
    "\n",
    "    # make sure there is something non-zero (though very small if it should be zero)\n",
    "    # is in the bottom right corner so that qb displays the full image\n",
    "    t = int(2**np.ceil(np.log2(t_max-1))) - 1\n",
    "    n = semis_per_octave - 1\n",
    "    if (t,n) not in h:\n",
    "        h[t,n] = 1e-9\n",
    "    \n",
    "    return h"
   ]
  },
  {
   "attachments": {},
   "cell_type": "markdown",
   "metadata": {},
   "source": [
    "The next one turns heightmaps into images that can be easily rendered here in a Jupyter notebook."
   ]
  },
  {
   "cell_type": "code",
   "execution_count": 6,
   "metadata": {},
   "outputs": [],
   "source": [
    "def score2image(score,scale=10):\n",
    "    \n",
    "    height = score2height(score)\n",
    "    \n",
    "    img = qb.height2image(height)\n",
    "    img = img.resize((img.size[0]*10,img.size[1]*10),0)\n",
    "    \n",
    "    return img"
   ]
  },
  {
   "attachments": {},
   "cell_type": "markdown",
   "metadata": {},
   "source": [
    "Here's our score as an image."
   ]
  },
  {
   "cell_type": "code",
   "execution_count": 7,
   "metadata": {},
   "outputs": [
    {
     "data": {
      "image/png": "[encoded data removed]",
      "text/plain": [
       "<PIL.Image.Image image mode=L size=640x160>"
      ]
     },
     "execution_count": 7,
     "metadata": {},
     "output_type": "execute_result"
    }
   ],
   "source": [
    "score2image(score)"
   ]
  },
  {
   "attachments": {},
   "cell_type": "markdown",
   "metadata": {},
   "source": [
    "This has the lowest notes at the top, so you can flip it to get the more standard convention of the highest at the top."
   ]
  },
  {
   "cell_type": "code",
   "execution_count": 8,
   "metadata": {},
   "outputs": [
    {
     "name": "stderr",
     "output_type": "stream",
     "text": [
      "/var/folders/k_/v_j5rlt17y57y1twq31yq_040000gn/T/ipykernel_80036/1715738746.py:2: DeprecationWarning: FLIP_TOP_BOTTOM is deprecated and will be removed in Pillow 10 (2023-07-01). Use Transpose.FLIP_TOP_BOTTOM instead.\n",
      "  score2image(score).transpose(PIL.Image.FLIP_TOP_BOTTOM)\n"
     ]
    },
    {
     "data": {
      "image/png": "[encoded data removed]",
      "text/plain": [
       "<PIL.Image.Image image mode=L size=640x160>"
      ]
     },
     "execution_count": 8,
     "metadata": {},
     "output_type": "execute_result"
    }
   ],
   "source": [
    "import PIL\n",
    "score2image(score).transpose(PIL.Image.FLIP_TOP_BOTTOM)"
   ]
  },
  {
   "attachments": {},
   "cell_type": "markdown",
   "metadata": {},
   "source": [
    "The final step is to turn heightmaps back into scores.\n",
    "\n",
    "This has an option to call the function with `max_only=True`. In the case that there are two notes played at the same time, this removes all but those with maximum value, and collects all the volume of the rejected notes into the ones that remain."
   ]
  },
  {
   "cell_type": "code",
   "execution_count": 9,
   "metadata": {},
   "outputs": [],
   "source": [
    "def height2score(height,max_only=False):\n",
    "    \n",
    "    score = []\n",
    "    \n",
    "    max_h = max(height.values())\n",
    "    \n",
    "    notes4beats = [[] for _ in range(10000) ]\n",
    "    for (t,n) in height:\n",
    "        \n",
    "        note = {}\n",
    "        \n",
    "        note['beat'] = t%beats_per_bar\n",
    "        note['bar'] = int((t-note['beat'])/beats_per_bar)\n",
    "        \n",
    "        n0 = np.round((n%semis_per_octave)*12/semis_per_octave)\n",
    "        note['note'] = list(note_ref.keys())[list(note_ref.values()).index(int(n0))]\n",
    "        note['octave'] = int((n - n%semis_per_octave)/semis_per_octave)\n",
    "        \n",
    "        note['volume'] = int(100*height[t,n]/max_h)\n",
    "        \n",
    "        notes4beats[t].append(note.copy())\n",
    "        \n",
    "                \n",
    "    for t,notes in enumerate(notes4beats):\n",
    "\n",
    "        if max_only:\n",
    "            \n",
    "            max_vol = 0\n",
    "            total_vol = 0\n",
    "            for note in notes:\n",
    "                max_vol = max( note['volume'], max_vol )\n",
    "                total_vol += note['volume']\n",
    "                \n",
    "            for note in notes:\n",
    "                if note['volume']==max_vol:\n",
    "                    note['volume'] = min(total_vol,100)\n",
    "                    score.append(note)\n",
    "            \n",
    "        else:\n",
    "            for note in notes:\n",
    "                score.append(note)\n",
    "        \n",
    "    return score"
   ]
  },
  {
   "attachments": {},
   "cell_type": "markdown",
   "metadata": {},
   "source": [
    "Now we can actually do something!\n",
    "\n",
    "Quantum Blur has been designed to encode heightmaps as quantum circuits, and turn quantum circuits back to heightmaps. This allows the heightmaps to be manipulated by changing the circuit.\n",
    "\n",
    "First, let's just turn the score into a circuit and back again, to see that it comes back in one piece."
   ]
  },
  {
   "cell_type": "code",
   "execution_count": 10,
   "metadata": {},
   "outputs": [
    {
     "data": {
      "image/png": "[encoded data removed]",
      "text/plain": [
       "<PIL.Image.Image image mode=L size=640x160>"
      ]
     },
     "execution_count": 10,
     "metadata": {},
     "output_type": "execute_result"
    }
   ],
   "source": [
    "height = score2height(score)\n",
    "qc = qb.height2circuit(height)\n",
    "new_height = qb.circuit2height(qc)\n",
    "\n",
    "new_score = height2score(new_height,max_only=False)\n",
    "score2image(new_score)"
   ]
  },
  {
   "attachments": {},
   "cell_type": "markdown",
   "metadata": {},
   "source": [
    "Now let's add some `rx` rotations on all qubits, which is the simplest way to manipulate the height map."
   ]
  },
  {
   "cell_type": "code",
   "execution_count": 11,
   "metadata": {
    "scrolled": false
   },
   "outputs": [
    {
     "data": {
      "image/png": "[encoded data removed]",
      "text/plain": [
       "<PIL.Image.Image image mode=L size=640x160>"
      ]
     },
     "execution_count": 11,
     "metadata": {},
     "output_type": "execute_result"
    }
   ],
   "source": [
    "theta = np.pi/8\n",
    "\n",
    "height = score2height(score)\n",
    "qc = qb.height2circuit(height)\n",
    "qc.rx(theta,range(qc.num_qubits))\n",
    "new_height = qb.circuit2height(qc)\n",
    "\n",
    "new_score = height2score(new_height,max_only=False)\n",
    "score2image(new_score)"
   ]
  },
  {
   "attachments": {},
   "cell_type": "markdown",
   "metadata": {},
   "source": [
    "Here the angle of rotation was quite small, so it didn't change the score much. In fact, with `max_only=True` we find that it hardly changed at all."
   ]
  },
  {
   "cell_type": "code",
   "execution_count": 12,
   "metadata": {},
   "outputs": [
    {
     "data": {
      "image/png": "[encoded data removed]",
      "text/plain": [
       "<PIL.Image.Image image mode=L size=640x160>"
      ]
     },
     "execution_count": 12,
     "metadata": {},
     "output_type": "execute_result"
    }
   ],
   "source": [
    "new_score = height2score(new_height,max_only=True)\n",
    "score2image(new_score)"
   ]
  },
  {
   "attachments": {},
   "cell_type": "markdown",
   "metadata": {},
   "source": [
    "The effect is more pronounced with a larger angle."
   ]
  },
  {
   "cell_type": "code",
   "execution_count": 13,
   "metadata": {},
   "outputs": [
    {
     "data": {
      "image/png": "[encoded data removed]",
      "text/plain": [
       "<PIL.Image.Image image mode=L size=640x160>"
      ]
     },
     "execution_count": 13,
     "metadata": {},
     "output_type": "execute_result"
    }
   ],
   "source": [
    "theta = np.pi*0.41\n",
    "\n",
    "height = score2height(score)\n",
    "qc = qb.height2circuit(height)\n",
    "qc.rx(theta,range(qc.num_qubits))\n",
    "new_height = qb.circuit2height(qc)\n",
    "\n",
    "new_score = height2score(new_height,max_only=False)\n",
    "score2image(new_score)"
   ]
  },
  {
   "attachments": {},
   "cell_type": "markdown",
   "metadata": {},
   "source": [
    "And still results in something very different when we take `max_only=True`."
   ]
  },
  {
   "cell_type": "code",
   "execution_count": 14,
   "metadata": {},
   "outputs": [
    {
     "data": {
      "image/png": "[encoded data removed]",
      "text/plain": [
       "<PIL.Image.Image image mode=L size=640x160>"
      ]
     },
     "execution_count": 14,
     "metadata": {},
     "output_type": "execute_result"
    }
   ],
   "source": [
    "new_score = height2score(new_height,max_only=True)\n",
    "score2image(new_score)"
   ]
  },
  {
   "attachments": {},
   "cell_type": "markdown",
   "metadata": {},
   "source": [
    "When we convert back to a score, and then to a midi file, we can listen to what results. It turns out to be very different to what we started with, but still arguably music."
   ]
  },
  {
   "cell_type": "code",
   "execution_count": 15,
   "metadata": {},
   "outputs": [],
   "source": [
    "score2midi(new_score,'music.mid')"
   ]
  },
  {
   "attachments": {},
   "cell_type": "markdown",
   "metadata": {},
   "source": [
    "You can find the resulting midi file in the same folder as this notebook. Or you can listen to [this version](https://soundcloud.com/james-wootton-348392631/quantum-twinkle-2021) that has helpfully been uploaded to SoundCloud."
   ]
  }
 ],
 "metadata": {
  "kernelspec": {
   "display_name": "Python 3",
   "language": "python",
   "name": "python3"
  },
  "language_info": {
   "codemirror_mode": {
    "name": "ipython",
    "version": 3
   },
   "file_extension": ".py",
   "mimetype": "text/x-python",
   "name": "python",
   "nbconvert_exporter": "python",
   "pygments_lexer": "ipython3",
   "version": "3.10.6"
  }
 },
 "nbformat": 4,
 "nbformat_minor": 2
}
